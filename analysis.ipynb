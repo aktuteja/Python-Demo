{
 "metadata": {
  "language_info": {
   "codemirror_mode": {
    "name": "ipython",
    "version": 3
   },
   "file_extension": ".py",
   "mimetype": "text/x-python",
   "name": "python",
   "nbconvert_exporter": "python",
   "pygments_lexer": "ipython3",
   "version": "3.8.8"
  },
  "orig_nbformat": 2,
  "kernelspec": {
   "name": "python388jvsc74a57bd09d0d47de48cdfbde009305e4a966a6db056712aba550951e6740f8855f0364ef",
   "display_name": "Python 3.8.8 64-bit ('base': conda)"
  },
  "metadata": {
   "interpreter": {
    "hash": "31f2aee4e71d21fbe5cf8b01ff0e069b9275f58929596ceb00d14d90e3e16cd6"
   }
  }
 },
 "nbformat": 4,
 "nbformat_minor": 2,
 "cells": [
  {
   "cell_type": "code",
   "execution_count": 4,
   "metadata": {},
   "outputs": [
    {
     "output_type": "stream",
     "name": "stdout",
     "text": [
      "                       id                               name       artists  \\\n0   6DCZcSspjsKoFjzjrWoCd                         God's Plan         Drake   \n1   3ee8Jmje8o58CHK66QrVC                               SAD!  XXXTENTACION   \n2   0e7ipj03S05BNilyu5bRz         rockstar (feat. 21 Savage)   Post Malone   \n3   3swc6WTsr7rl9DqQKQA55       Psycho (feat. Ty Dolla $ign)   Post Malone   \n4   2G7V7zsVDxg1yRsu7Ew9R                     In My Feelings         Drake   \n..                    ...                                ...           ...   \n95  630sXRhIcfwr2e4RdNtjK                  Rewrite The Stars     Zac Efron   \n96  2xmrfQpmS2iJExTlklLoA  I Miss You (feat. Julia Michaels)  Clean Bandit   \n97  5WvAo7DNuPRmk4APhdPzi                         No Brainer     DJ Khaled   \n98  1j4kHkkpqZRBwE0A4CN4Y        Dusk Till Dawn - Radio Edit          ZAYN   \n99  3EPXxR3ImUwfayaurPi3c                         Be Alright    Dean Lewis   \n\n    danceability  energy   key  loudness  mode  speechiness  acousticness  \\\n0          0.754   0.449   7.0    -9.211   1.0       0.1090        0.0332   \n1          0.740   0.613   8.0    -4.880   1.0       0.1450        0.2580   \n2          0.587   0.535   5.0    -6.090   0.0       0.0898        0.1170   \n3          0.739   0.559   8.0    -8.011   1.0       0.1170        0.5800   \n4          0.835   0.626   1.0    -5.833   1.0       0.1250        0.0589   \n..           ...     ...   ...       ...   ...          ...           ...   \n95         0.684   0.619  10.0    -7.005   1.0       0.0386        0.0716   \n96         0.638   0.658   3.0    -6.318   1.0       0.0456        0.2450   \n97         0.552   0.760   0.0    -4.706   1.0       0.3420        0.0733   \n98         0.258   0.437  11.0    -6.593   0.0       0.0390        0.1010   \n99         0.553   0.586  11.0    -6.319   1.0       0.0362        0.6970   \n\n    instrumentalness  liveness  valence    tempo  duration_ms  time_signature  \n0           0.000083    0.5520   0.3570   77.169     198973.0             4.0  \n1           0.003720    0.1230   0.4730   75.023     166606.0             4.0  \n2           0.000066    0.1310   0.1400  159.847     218147.0             4.0  \n3           0.000000    0.1120   0.4390  140.124     221440.0             4.0  \n4           0.000060    0.3960   0.3500   91.030     217925.0             4.0  \n..               ...       ...      ...      ...          ...             ...  \n95          0.000000    0.1220   0.2840  125.046     217440.0             4.0  \n96          0.000004    0.0919   0.3300  105.076     205748.0             4.0  \n97          0.000000    0.0865   0.6390  135.702     260000.0             5.0  \n98          0.000001    0.1060   0.0967  180.043     239000.0             4.0  \n99          0.000000    0.0813   0.4430  126.684     196373.0             4.0  \n\n[100 rows x 16 columns]\n"
     ]
    }
   ],
   "source": [
    "import pandas as pd\n",
    "import matplotlib as mp\n",
    "from matplotlib import pyplot as plt\n",
    "\n",
    "data = pd.read_csv(\"SpotifyTopPlaylist.csv\")\n",
    "print(data)\n"
   ]
  },
  {
   "cell_type": "code",
   "execution_count": null,
   "metadata": {},
   "outputs": [],
   "source": [
    "\n"
   ]
  }
 ]
}